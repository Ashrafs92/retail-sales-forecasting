{
 "cells": [
  {
   "cell_type": "markdown",
   "id": "fdc7c56a",
   "metadata": {},
   "source": [
    "# Retail Sales Forecasting Project\n",
    "This notebook demonstrates basic EDA and visualization for retail sales data."
   ]
  },
  {
   "cell_type": "code",
   "execution_count": null,
   "id": "ceee1e44",
   "metadata": {},
   "outputs": [],
   "source": [
    "import pandas as pd\n",
    "import matplotlib.pyplot as plt\n",
    "\n",
    "# Load dataset\n",
    "df = pd.read_csv(\"retail_sales_data.csv\")\n",
    "\n",
    "# Display first few rows\n",
    "print(df.head())\n",
    "\n",
    "# Convert Date to datetime\n",
    "df['Date'] = pd.to_datetime(df['Date'])\n",
    "df['Month'] = df['Date'].dt.to_period('M')\n",
    "\n",
    "# Monthly revenue trend\n",
    "monthly = df.groupby(\"Month\")[\"Revenue\"].sum()\n",
    "monthly.plot(kind=\"line\", title=\"Monthly Revenue Trend\", figsize=(8,4))\n",
    "plt.show()\n",
    "\n",
    "# Category-wise revenue\n",
    "df.groupby(\"Category\")[\"Revenue\"].sum().plot(kind=\"bar\", title=\"Revenue by Category\", figsize=(6,4))\n",
    "plt.show()"
   ]
  }
 ],
 "metadata": {},
 "nbformat": 4,
 "nbformat_minor": 5
}